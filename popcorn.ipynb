{
 "metadata": {
  "name": "",
  "signature": "sha256:044120d490946488bb356b7add6d043e6d09a159e3ee10b4e7f8a7ae92d4374a"
 },
 "nbformat": 3,
 "nbformat_minor": 0,
 "worksheets": [
  {
   "cells": [
    {
     "cell_type": "code",
     "collapsed": false,
     "input": [
      "import pandas as pd\n",
      "import numpy as np\n",
      "from sklearn import linear_model"
     ],
     "language": "python",
     "metadata": {},
     "outputs": [],
     "prompt_number": 29
    },
    {
     "cell_type": "code",
     "collapsed": false,
     "input": [
      "train = pd.read_csv('Kaggle/popcorn-features.csv')\n",
      "    train.head()"
     ],
     "language": "python",
     "metadata": {},
     "outputs": [
      {
       "html": [
        "<div style=\"max-height:1000px;max-width:1500px;overflow:auto;\">\n",
        "<table border=\"1\" class=\"dataframe\">\n",
        "  <thead>\n",
        "    <tr style=\"text-align: right;\">\n",
        "      <th></th>\n",
        "      <th>id</th>\n",
        "      <th>sentiment</th>\n",
        "      <th>abandoned</th>\n",
        "      <th>abc</th>\n",
        "      <th>abilities</th>\n",
        "      <th>ability</th>\n",
        "      <th>able</th>\n",
        "      <th>abraham</th>\n",
        "      <th>absence</th>\n",
        "      <th>absent</th>\n",
        "      <th>...</th>\n",
        "      <th>yesterday</th>\n",
        "      <th>york</th>\n",
        "      <th>young</th>\n",
        "      <th>younger</th>\n",
        "      <th>youth</th>\n",
        "      <th>zero</th>\n",
        "      <th>zizek</th>\n",
        "      <th>zombie</th>\n",
        "      <th>zombies</th>\n",
        "      <th>zone</th>\n",
        "    </tr>\n",
        "  </thead>\n",
        "  <tbody>\n",
        "    <tr>\n",
        "      <th>0</th>\n",
        "      <td> \"5814_8\"</td>\n",
        "      <td> 1</td>\n",
        "      <td> 0</td>\n",
        "      <td> 0</td>\n",
        "      <td> 0</td>\n",
        "      <td> 0</td>\n",
        "      <td> 0</td>\n",
        "      <td> 0</td>\n",
        "      <td> 0</td>\n",
        "      <td> 0</td>\n",
        "      <td>...</td>\n",
        "      <td> 0</td>\n",
        "      <td> 0</td>\n",
        "      <td> 0</td>\n",
        "      <td> 0</td>\n",
        "      <td> 0</td>\n",
        "      <td> 0</td>\n",
        "      <td> 0</td>\n",
        "      <td> 0</td>\n",
        "      <td> 0</td>\n",
        "      <td> 0</td>\n",
        "    </tr>\n",
        "    <tr>\n",
        "      <th>1</th>\n",
        "      <td> \"2381_9\"</td>\n",
        "      <td> 1</td>\n",
        "      <td> 0</td>\n",
        "      <td> 0</td>\n",
        "      <td> 0</td>\n",
        "      <td> 0</td>\n",
        "      <td> 0</td>\n",
        "      <td> 0</td>\n",
        "      <td> 0</td>\n",
        "      <td> 0</td>\n",
        "      <td>...</td>\n",
        "      <td> 0</td>\n",
        "      <td> 0</td>\n",
        "      <td> 0</td>\n",
        "      <td> 0</td>\n",
        "      <td> 0</td>\n",
        "      <td> 0</td>\n",
        "      <td> 0</td>\n",
        "      <td> 0</td>\n",
        "      <td> 0</td>\n",
        "      <td> 0</td>\n",
        "    </tr>\n",
        "    <tr>\n",
        "      <th>2</th>\n",
        "      <td> \"7759_3\"</td>\n",
        "      <td> 0</td>\n",
        "      <td> 0</td>\n",
        "      <td> 0</td>\n",
        "      <td> 0</td>\n",
        "      <td> 0</td>\n",
        "      <td> 0</td>\n",
        "      <td> 0</td>\n",
        "      <td> 0</td>\n",
        "      <td> 0</td>\n",
        "      <td>...</td>\n",
        "      <td> 0</td>\n",
        "      <td> 0</td>\n",
        "      <td> 0</td>\n",
        "      <td> 0</td>\n",
        "      <td> 0</td>\n",
        "      <td> 0</td>\n",
        "      <td> 0</td>\n",
        "      <td> 0</td>\n",
        "      <td> 0</td>\n",
        "      <td> 0</td>\n",
        "    </tr>\n",
        "    <tr>\n",
        "      <th>3</th>\n",
        "      <td> \"3630_4\"</td>\n",
        "      <td> 0</td>\n",
        "      <td> 0</td>\n",
        "      <td> 0</td>\n",
        "      <td> 0</td>\n",
        "      <td> 0</td>\n",
        "      <td> 0</td>\n",
        "      <td> 0</td>\n",
        "      <td> 0</td>\n",
        "      <td> 0</td>\n",
        "      <td>...</td>\n",
        "      <td> 0</td>\n",
        "      <td> 0</td>\n",
        "      <td> 0</td>\n",
        "      <td> 0</td>\n",
        "      <td> 0</td>\n",
        "      <td> 0</td>\n",
        "      <td> 0</td>\n",
        "      <td> 0</td>\n",
        "      <td> 0</td>\n",
        "      <td> 0</td>\n",
        "    </tr>\n",
        "    <tr>\n",
        "      <th>4</th>\n",
        "      <td> \"9495_8\"</td>\n",
        "      <td> 1</td>\n",
        "      <td> 0</td>\n",
        "      <td> 0</td>\n",
        "      <td> 0</td>\n",
        "      <td> 0</td>\n",
        "      <td> 0</td>\n",
        "      <td> 0</td>\n",
        "      <td> 0</td>\n",
        "      <td> 0</td>\n",
        "      <td>...</td>\n",
        "      <td> 0</td>\n",
        "      <td> 0</td>\n",
        "      <td> 0</td>\n",
        "      <td> 0</td>\n",
        "      <td> 0</td>\n",
        "      <td> 0</td>\n",
        "      <td> 0</td>\n",
        "      <td> 0</td>\n",
        "      <td> 0</td>\n",
        "      <td> 0</td>\n",
        "    </tr>\n",
        "  </tbody>\n",
        "</table>\n",
        "<p>5 rows \u00d7 5002 columns</p>\n",
        "</div>"
       ],
       "metadata": {},
       "output_type": "pyout",
       "prompt_number": 2,
       "text": [
        "         id  sentiment  abandoned  abc  abilities  ability  able  abraham  \\\n",
        "0  \"5814_8\"          1          0    0          0        0     0        0   \n",
        "1  \"2381_9\"          1          0    0          0        0     0        0   \n",
        "2  \"7759_3\"          0          0    0          0        0     0        0   \n",
        "3  \"3630_4\"          0          0    0          0        0     0        0   \n",
        "4  \"9495_8\"          1          0    0          0        0     0        0   \n",
        "\n",
        "   absence  absent   ...    yesterday  york  young  younger  youth  zero  \\\n",
        "0        0       0   ...            0     0      0        0      0     0   \n",
        "1        0       0   ...            0     0      0        0      0     0   \n",
        "2        0       0   ...            0     0      0        0      0     0   \n",
        "3        0       0   ...            0     0      0        0      0     0   \n",
        "4        0       0   ...            0     0      0        0      0     0   \n",
        "\n",
        "   zizek  zombie  zombies  zone  \n",
        "0      0       0        0     0  \n",
        "1      0       0        0     0  \n",
        "2      0       0        0     0  \n",
        "3      0       0        0     0  \n",
        "4      0       0        0     0  \n",
        "\n",
        "[5 rows x 5002 columns]"
       ]
      }
     ],
     "prompt_number": 2
    },
    {
     "cell_type": "code",
     "collapsed": false,
     "input": [],
     "language": "python",
     "metadata": {},
     "outputs": [],
     "prompt_number": 56
    },
    {
     "cell_type": "code",
     "collapsed": false,
     "input": [
      "T = np.array(train[\"sentiment\"])\n",
      "X = np.array(train.iloc[:,2:])\n",
      "\n",
      "log=linear_model.LogisticRegression(C=0.001)\n",
      "N = 25000\n",
      "perm = np.random.permutation(N)\n",
      "\n",
      "X_train = X[perm[:N/2]]\n",
      "X_test = X[perm[N/2+1:]]\n",
      "\n",
      "T_train = T[perm[:N/2]]\n",
      "T_test = T[perm[N/2+1:]]"
     ],
     "language": "python",
     "metadata": {},
     "outputs": [
      {
       "metadata": {},
       "output_type": "pyout",
       "prompt_number": 81,
       "text": [
        "LogisticRegression(C=0.001, class_weight=None, dual=False, fit_intercept=True,\n",
        "          intercept_scaling=1, penalty='l2', random_state=None, tol=0.0001)"
       ]
      }
     ],
     "prompt_number": 81
    },
    {
     "cell_type": "code",
     "collapsed": false,
     "input": [
      "log.fit(X_train,T_train)\n",
      "preds = log.predict(X_test)\n",
      "print np.sum(abs(preds-T_test))\n",
      "(preds==T_test).all()"
     ],
     "language": "python",
     "metadata": {},
     "outputs": [
      {
       "output_type": "stream",
       "stream": "stdout",
       "text": [
        "187\n"
       ]
      },
      {
       "metadata": {},
       "output_type": "pyout",
       "prompt_number": 82,
       "text": [
        "False"
       ]
      }
     ],
     "prompt_number": 82
    },
    {
     "cell_type": "code",
     "collapsed": false,
     "input": [
      "test = pd.read_csv('Kaggle/popcorn-features-test.csv')\n",
      "test.head()\n",
      "X = np.array(test.iloc[:,1:])\n",
      "preds = log.predict(X)"
     ],
     "language": "python",
     "metadata": {},
     "outputs": [],
     "prompt_number": 83
    },
    {
     "cell_type": "code",
     "collapsed": false,
     "input": [
      "test[\"id\"]"
     ],
     "language": "python",
     "metadata": {},
     "outputs": [
      {
       "metadata": {},
       "output_type": "pyout",
       "prompt_number": 88,
       "text": [
        "0     \"12311_10\"\n",
        "1       \"8348_2\"\n",
        "2       \"5828_4\"\n",
        "3       \"7186_2\"\n",
        "4      \"12128_7\"\n",
        "5       \"2913_8\"\n",
        "6       \"4396_1\"\n",
        "7        \"395_2\"\n",
        "8      \"10616_1\"\n",
        "9       \"9074_9\"\n",
        "10      \"9252_3\"\n",
        "11      \"9896_9\"\n",
        "12       \"574_4\"\n",
        "13     \"11182_8\"\n",
        "14     \"11656_4\"\n",
        "...\n",
        "24985       \"588_2\"\n",
        "24986      \"9678_9\"\n",
        "24987      \"1983_9\"\n",
        "24988      \"5012_3\"\n",
        "24989     \"12240_2\"\n",
        "24990      \"5071_2\"\n",
        "24991      \"5078_2\"\n",
        "24992     \"10069_3\"\n",
        "24993      \"7407_8\"\n",
        "24994      \"7207_1\"\n",
        "24995     \"2155_10\"\n",
        "24996       \"59_10\"\n",
        "24997      \"2531_1\"\n",
        "24998      \"7772_8\"\n",
        "24999    \"11465_10\"\n",
        "Name: id, Length: 25000, dtype: object"
       ]
      }
     ],
     "prompt_number": 88
    },
    {
     "cell_type": "code",
     "collapsed": false,
     "input": [
      "f = open('predictions.csv','w')"
     ],
     "language": "python",
     "metadata": {},
     "outputs": [],
     "prompt_number": 85
    },
    {
     "cell_type": "code",
     "collapsed": false,
     "input": [
      "f.write(preds)"
     ],
     "language": "python",
     "metadata": {},
     "outputs": [],
     "prompt_number": 86
    },
    {
     "cell_type": "code",
     "collapsed": false,
     "input": [
      "f.close()"
     ],
     "language": "python",
     "metadata": {},
     "outputs": [],
     "prompt_number": 87
    },
    {
     "cell_type": "code",
     "collapsed": false,
     "input": [
      "output = pd.DataFrame(data={\"id\":test[\"id\"],\"sentiment\":preds})"
     ],
     "language": "python",
     "metadata": {},
     "outputs": [],
     "prompt_number": 90
    },
    {
     "cell_type": "code",
     "collapsed": false,
     "input": [
      "output.to_csv('predictions.csv',index=False,quoting=3)"
     ],
     "language": "python",
     "metadata": {},
     "outputs": [],
     "prompt_number": 92
    },
    {
     "cell_type": "code",
     "collapsed": false,
     "input": [],
     "language": "python",
     "metadata": {},
     "outputs": []
    }
   ],
   "metadata": {}
  }
 ]
}